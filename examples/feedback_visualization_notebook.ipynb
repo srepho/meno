{
 "cells": [
  {
   "cell_type": "markdown",
   "metadata": {},
   "source": [
    "# Meno Topic Feedback System with Enhanced Visualizations\n",
    "\n",
    "This notebook demonstrates how to use Meno's topic feedback system along with the enhanced visualization components to improve topic modeling results interactively."
   ]
  },
  {
   "cell_type": "code",
   "execution_count": null,
   "metadata": {},
   "outputs": [],
   "source": [
    "import meno\n",
    "import matplotlib.pyplot as plt\n",
    "import pandas as pd\n",
    "import numpy as np\n",
    "from IPython.display import display, HTML\n",
    "from sklearn.datasets import fetch_20newsgroups\n",
    "import sys\n",
    "import os\n",
    "import warnings\n",
    "warnings.filterwarnings('ignore')\n",
    "\n",
    "# Add path for importing\n",
    "sys.path.insert(0, os.path.abspath(os.path.join(os.getcwd(), '..')))\n",
    "\n",
    "# Import feedback components\n",
    "from meno import SimpleFeedback, TopicFeedbackManager\n",
    "from meno import plot_feedback_impact, plot_topic_feedback_distribution"
   ]
  },
  {
   "cell_type": "markdown",
   "metadata": {},
   "source": [
    "## 1. Load Sample Data\n",
    "\n",
    "We'll use a subset of the 20 Newsgroups dataset for this example."
   ]
  },
  {
   "cell_type": "code",
   "execution_count": null,
   "metadata": {},
   "outputs": [],
   "source": [
    "# Load sample dataset\n",
    "print(\"Loading 20 newsgroups dataset...\")\n",
    "newsgroups = fetch_20newsgroups(\n",
    "    subset='train',\n",
    "    categories=['alt.atheism', 'comp.graphics', 'sci.space'],\n",
    "    remove=('headers', 'footers', 'quotes'),\n",
    "    random_state=42\n",
    ")\n",
    "\n",
    "# Take a small sample for this example\n",
    "sample_size = 300\n",
    "indices = np.random.RandomState(42).choice(len(newsgroups.data), sample_size, replace=False)\n",
    "documents = [newsgroups.data[i] for i in indices]\n",
    "true_labels = [newsgroups.target[i] for i in indices]\n",
    "\n",
    "# Print dataset info\n",
    "print(f\"Loaded {len(documents)} documents from {len(newsgroups.target_names)} categories\")\n",
    "print(f\"Categories: {newsgroups.target_names}\")"
   ]
  },
  {
   "cell_type": "markdown",
   "metadata": {},
   "source": [
    "## 2. Create and Fit a Topic Model\n",
    "\n",
    "We'll use a simple TF-IDF based topic model for quick iteration."
   ]
  },
  {
   "cell_type": "code",
   "execution_count": null,
   "metadata": {},
   "outputs": [],
   "source": [
    "# Create a simple topic model\n",
    "print(\"Creating and fitting topic model...\")\n",
    "model = meno.TFIDFTopicModel(n_topics=5)  # Intentionally using fewer topics than categories\n",
    "model.fit(documents)\n",
    "\n",
    "# Get document topics\n",
    "doc_topics = model.get_document_topics()\n",
    "topics = doc_topics[\"topic\"].tolist()\n",
    "\n",
    "print(\"\\nTopic distribution:\")\n",
    "topic_counts = pd.Series(topics).value_counts().sort_index()\n",
    "for topic, count in topic_counts.items():\n",
    "    print(f\"  Topic {topic}: {count} documents\")\n",
    "\n",
    "# Show top words for each topic\n",
    "print(\"\\nTop words per topic:\")\n",
    "for topic in range(model.n_topics):\n",
    "    words = model.get_topic_words(topic, n_words=8)\n",
    "    print(f\"  Topic {topic}: {', '.join(words)}\")"
   ]
  },
  {
   "cell_type": "markdown",
   "metadata": {},
   "source": [
    "## 3. Set up Topic Feedback Manager\n",
    "\n",
    "Now we'll set up the topic feedback manager to collect feedback on topic assignments."
   ]
  },
  {
   "cell_type": "code",
   "execution_count": null,
   "metadata": {},
   "outputs": [],
   "source": [
    "# Create wordcloud HTML for topics\n",
    "from wordcloud import WordCloud\n",
    "import matplotlib.pyplot as plt\n",
    "from io import BytesIO\n",
    "import base64\n",
    "\n",
    "def get_wordcloud_html(topic_model, topic_id, width=300, height=200):\n",
    "    # Get topic words with weights\n",
    "    words = topic_model.get_topic_words(topic_id, n_words=30)\n",
    "    # Create frequencies dict (using decreasing weights)\n",
    "    word_freqs = {word: 30-i for i, word in enumerate(words)}\n",
    "    \n",
    "    # Create wordcloud\n",
    "    wc = WordCloud(width=width, height=height, background_color='white',\n",
    "                  max_words=30, prefer_horizontal=0.9, relative_scaling=0.5)\n",
    "    wc.generate_from_frequencies(word_freqs)\n",
    "    \n",
    "    # Convert to image\n",
    "    plt.figure(figsize=(width/100, height/100), dpi=100)\n",
    "    plt.imshow(wc, interpolation='bilinear')\n",
    "    plt.axis('off')\n",
    "    \n",
    "    # Save to buffer\n",
    "    buf = BytesIO()\n",
    "    plt.savefig(buf, format='png', bbox_inches='tight', pad_inches=0)\n",
    "    buf.seek(0)\n",
    "    plt.close()\n",
    "    \n",
    "    # Convert to base64 for HTML\n",
    "    image_base64 = base64.b64encode(buf.getvalue()).decode('utf-8')\n",
    "    return f'<img src=\"data:image/png;base64,{image_base64}\" width=\"{width}\" height=\"{height}\">'\n",
    "\n",
    "# Create wordclouds for each topic\n",
    "topic_wordclouds = []\n",
    "for topic in range(model.n_topics):\n",
    "    topic_wordclouds.append(get_wordcloud_html(model, topic))\n",
    "\n",
    "# Create topic descriptions\n",
    "topic_descriptions = []\n",
    "for topic in range(model.n_topics):\n",
    "    words = model.get_topic_words(topic, n_words=5)\n",
    "    topic_descriptions.append(f\"Key words: {', '.join(words)}\")\n",
    "\n",
    "# Set up the feedback manager\n",
    "feedback_manager = meno.TopicFeedbackManager(model)\n",
    "\n",
    "# Create the feedback system with our custom visualizations\n",
    "feedback_system = feedback_manager.setup_feedback(\n",
    "    n_samples=15,  # Start with 15 documents for review\n",
    "    uncertainty_ratio=0.7,  # 70% uncertain, 30% diverse\n",
    "    uncertainty_method=\"entropy\",\n",
    "    topic_descriptions=topic_descriptions,\n",
    "    topic_wordclouds=topic_wordclouds\n",
    ")\n",
    "\n",
    "print(\"Feedback system ready. Let's start the review process!\")"
   ]
  },
  {
   "cell_type": "markdown",
   "metadata": {},
   "source": [
    "## 4. Collect Feedback (Session 1)\n",
    "\n",
    "Now we'll start a feedback session to review and correct topic assignments."
   ]
  },
  {
   "cell_type": "code",
   "execution_count": null,
   "metadata": {},
   "outputs": [],
   "source": [
    "# Display topic information for reference\n",
    "feedback_system.display_topics()\n",
    "\n",
    "# Start review session\n",
    "feedback_system.start_review()"
   ]
  },
  {
   "cell_type": "markdown",
   "metadata": {},
   "source": [
    "## 5. Apply Feedback and View Results\n",
    "\n",
    "After providing feedback, we'll apply the changes and see the impact on the topic model."
   ]
  },
  {
   "cell_type": "code",
   "execution_count": null,
   "metadata": {},
   "outputs": [],
   "source": [
    "# Display summary of feedback\n",
    "feedback_system.display_summary()\n",
    "\n",
    "# Apply the feedback to update the model\n",
    "updated_topics = feedback_system.apply_updates()\n",
    "\n",
    "# Save original topics before applying the next session\n",
    "original_topics = model.get_document_topics()[\"topic\"].tolist().copy()"
   ]
  },
  {
   "cell_type": "markdown",
   "metadata": {},
   "source": [
    "## 6. Visualize Feedback Impact (Session 1)\n",
    "\n",
    "Let's visualize the impact of our first feedback session using the new visualization tools."
   ]
  },
  {
   "cell_type": "code",
   "execution_count": null,
   "metadata": {},
   "outputs": [],
   "source": [
    "# Create a comprehensive feedback impact visualization\n",
    "fig = plot_feedback_impact(feedback_manager)\n",
    "plt.figure(fig.number)\n",
    "plt.show()"
   ]
  },
  {
   "cell_type": "markdown",
   "metadata": {},
   "source": [
    "## 7. Collect More Feedback (Session 2)\n",
    "\n",
    "Let's do another round of feedback, focusing on different documents."
   ]
  },
  {
   "cell_type": "code",
   "execution_count": null,
   "metadata": {},
   "outputs": [],
   "source": [
    "# Start a new feedback session\n",
    "feedback_system = feedback_manager.setup_feedback(\n",
    "    n_samples=10,  # Fewer samples this time\n",
    "    uncertainty_ratio=0.5,  # 50-50 split between uncertain and diverse\n",
    "    topic_descriptions=topic_descriptions,\n",
    "    topic_wordclouds=topic_wordclouds\n",
    ")\n",
    "\n",
    "# Quickly show topics and start review\n",
    "feedback_system.display_topics()\n",
    "feedback_system.start_review()"
   ]
  },
  {
   "cell_type": "markdown",
   "metadata": {},
   "source": [
    "## 8. Apply Second Round of Feedback"
   ]
  },
  {
   "cell_type": "code",
   "execution_count": null,
   "metadata": {},
   "outputs": [],
   "source": [
    "# Display summary and apply feedback\n",
    "feedback_system.display_summary()\n",
    "updated_topics = feedback_system.apply_updates()\n",
    "\n",
    "# Get current topics after feedback\n",
    "current_topics = model.get_document_topics()[\"topic\"].tolist()"
   ]
  },
  {
   "cell_type": "markdown",
   "metadata": {},
   "source": [
    "## 9. Visualize Cumulative Feedback Impact\n",
    "\n",
    "Now let's see the impact of both feedback sessions."
   ]
  },
  {
   "cell_type": "code",
   "execution_count": null,
   "metadata": {},
   "outputs": [],
   "source": [
    "# Create a comprehensive feedback impact visualization\n",
    "fig = plot_feedback_impact(feedback_manager, figsize=(14, 10))\n",
    "plt.figure(fig.number)\n",
    "plt.show()"
   ]
  },
  {
   "cell_type": "markdown",
   "metadata": {},
   "source": [
    "## 10. Topic-Specific Feedback Visualization\n",
    "\n",
    "Let's also use the specialized topic feedback distribution visualization to see which topics were most affected."
   ]
  },
  {
   "cell_type": "code",
   "execution_count": null,
   "metadata": {},
   "outputs": [],
   "source": [
    "# Visualize topic-specific changes\n",
    "fig = plot_topic_feedback_distribution(\n",
    "    model,\n",
    "    documents,\n",
    "    original_topics,\n",
    "    current_topics,\n",
    "    figsize=(12, 8),\n",
    "    show_wordclouds=True\n",
    ")\n",
    "plt.figure(fig.number)\n",
    "plt.show()"
   ]
  },
  {
   "cell_type": "markdown",
   "metadata": {},
   "source": [
    "## 11. Evaluate Final Model\n",
    "\n",
    "Let's evaluate how well our topic model now aligns with the true categories."
   ]
  },
  {
   "cell_type": "code",
   "execution_count": null,
   "metadata": {},
   "outputs": [],
   "source": [
    "# Create a dataframe with document info\n",
    "doc_df = pd.DataFrame({\n",
    "    \"original_topic\": original_topics,\n",
    "    \"final_topic\": current_topics,\n",
    "    \"true_category\": true_labels,\n",
    "    \"true_category_name\": [newsgroups.target_names[i] for i in true_labels],\n",
    "    \"changed\": [o != c for o, c in zip(original_topics, current_topics)]\n",
    "})\n",
    "\n",
    "# Show the distribution of true categories across topics\n",
    "print(\"Distribution of true categories across topics:\")\n",
    "topic_category_table = pd.crosstab(\n",
    "    doc_df[\"final_topic\"], \n",
    "    doc_df[\"true_category_name\"], \n",
    "    normalize=\"index\"\n",
    ") * 100\n",
    "\n",
    "display(topic_category_table.round(1))\n",
    "\n",
    "# Summary of changes\n",
    "print(f\"\\nTotal documents changed: {doc_df['changed'].sum()} ({doc_df['changed'].mean():.1%})\")\n",
    "\n",
    "# Analyze changes by category\n",
    "print(\"\\nChanges by true category:\")\n",
    "category_changes = doc_df.groupby(\"true_category_name\")[\"changed\"].agg([\"count\", \"sum\", lambda x: x.mean() * 100])\n",
    "category_changes.columns = [\"Total\", \"Changed\", \"Percent Changed\"]\n",
    "display(category_changes.round(1))"
   ]
  },
  {
   "cell_type": "markdown",
   "metadata": {},
   "source": [
    "## 12. Conclusion\n",
    "\n",
    "In this notebook, we've demonstrated how to:\n",
    "\n",
    "1. Set up a topic feedback system with Meno\n",
    "2. Collect and apply feedback to improve topic assignments\n",
    "3. Visualize the impact of feedback using the new visualization components\n",
    "4. Evaluate the improvements made through interactive feedback\n",
    "\n",
    "The combination of interactive feedback and informative visualizations makes it easier to understand and improve topic models."
   ]
  }
 ],
 "metadata": {
  "kernelspec": {
   "display_name": "Python 3",
   "language": "python",
   "name": "python3"
  },
  "language_info": {
   "codemirror_mode": {
    "name": "ipython",
    "version": 3
   },
   "file_extension": ".py",
   "mimetype": "text/x-python",
   "name": "python",
   "nbconvert_exporter": "python",
   "pygments_lexer": "ipython3",
   "version": "3.10.8"
  }
 },
 "nbformat": 4,
 "nbformat_minor": 4
}