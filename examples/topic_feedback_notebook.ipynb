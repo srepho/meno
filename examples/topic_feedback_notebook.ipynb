{
 "cells": [
  {
   "cell_type": "markdown",
   "metadata": {},
   "source": [
    "# Interactive Topic Feedback in Meno\n",
    "\n",
    "This notebook demonstrates how to use Meno's new feedback system to improve topic modeling results. The feedback system allows you to:\n",
    "\n",
    "1. Review topic assignments for individual documents\n",
    "2. Correct any misclassifications\n",
    "3. Incorporate your feedback into the model\n",
    "4. Export and import your feedback for collaboration\n",
    "\n",
    "This approach doesn't require a web app and works directly in Jupyter notebooks."
   ]
  },
  {
   "cell_type": "code",
   "execution_count": null,
   "metadata": {},
   "source": [
    "import pandas as pd\n",
    "import numpy as np\n",
    "import matplotlib.pyplot as plt\n",
    "from pathlib import Path\n",
    "import sys\n",
    "\n",
    "# Add parent directory to path if running in the examples directory\n",
    "try:\n",
    "    import meno\n",
    "except ImportError:\n",
    "    # Add parent directory to path\n",
    "    parent_dir = str(Path().absolute().parent)\n",
    "    if parent_dir not in sys.path:\n",
    "        sys.path.insert(0, parent_dir)\n",
    "\n",
    "# Import Meno components\n",
    "from meno import MenoTopicModeler\n",
    "from meno.active_learning.simple_feedback import TopicFeedbackManager"
   ]
  },
  {
   "cell_type": "markdown",
   "metadata": {},
   "source": [
    "## 1. Create Sample Data\n",
    "\n",
    "First, we'll create some sample data with distinct topic categories."
   ]
  },
  {
   "cell_type": "code",
   "execution_count": null,
   "metadata": {},
   "source": [
    "def create_sample_data():\n",
    "    \"\"\"Create sample data for demonstration.\"\"\"\n",
    "    # Create sample data with 3 topic categories\n",
    "    np.random.seed(42)\n",
    "    \n",
    "    # Technology documents\n",
    "    tech_docs = [\n",
    "        \"Machine learning algorithms can analyze large datasets to identify patterns.\",\n",
    "        \"Neural networks are computing systems inspired by biological brains.\",\n",
    "        \"Deep learning uses multiple layers to progressively extract higher level features.\",\n",
    "        \"Artificial intelligence is intelligence demonstrated by machines.\",\n",
    "        \"Data science combines domain expertise, programming, and math to extract insights.\"\n",
    "    ]\n",
    "    \n",
    "    # Healthcare documents\n",
    "    health_docs = [\n",
    "        \"Medical imaging techniques like MRI help diagnose conditions non-invasively.\",\n",
    "        \"Electronic health records store patient information digitally.\",\n",
    "        \"Telemedicine allows healthcare providers to consult with patients remotely.\",\n",
    "        \"Preventive medicine focuses on maintaining health and preventing disease.\",\n",
    "        \"Personalized medicine tailors treatments based on individual genetic profiles.\"\n",
    "    ]\n",
    "    \n",
    "    # Environmental documents\n",
    "    env_docs = [\n",
    "        \"Climate change refers to long-term shifts in global weather patterns.\",\n",
    "        \"Renewable energy sources like solar and wind power help reduce emissions.\",\n",
    "        \"Conservation efforts focus on protecting biodiversity and natural habitats.\",\n",
    "        \"Sustainable development balances economic growth with environmental protection.\",\n",
    "        \"Electric vehicles reduce reliance on fossil fuels and lower carbon emissions.\"\n",
    "    ]\n",
    "    \n",
    "    # Deliberately add some documents that could be in multiple categories\n",
    "    mixed_docs = [\n",
    "        \"AI is being used to analyze medical images for more accurate diagnoses.\",  # tech + health\n",
    "        \"Machine learning helps predict climate patterns and environmental changes.\",  # tech + env\n",
    "        \"Electronic health records are stored in data centers that consume significant energy.\",  # health + env\n",
    "        \"Wearable technology monitors health metrics and sends data to healthcare providers.\",  # tech + health\n",
    "        \"Smart grid technology optimizes energy distribution and reduces waste.\"  # tech + env\n",
    "    ]\n",
    "    \n",
    "    # Combine all documents\n",
    "    all_docs = tech_docs + health_docs + env_docs + mixed_docs\n",
    "    \n",
    "    # Create a true category label for each document (for evaluation)\n",
    "    true_categories = ([\"Technology\"] * 5 + [\"Healthcare\"] * 5 + \n",
    "                       [\"Environment\"] * 5 + [\"Mixed\"] * 5)\n",
    "    \n",
    "    # Create a dataframe\n",
    "    df = pd.DataFrame({\n",
    "        \"text\": all_docs,\n",
    "        \"true_category\": true_categories\n",
    "    })\n",
    "    \n",
    "    print(f\"Created sample dataset with {len(df)} documents\")\n",
    "    return df\n",
    "\n",
    "# Create the sample data\n",
    "df = create_sample_data()\n",
    "df.head()"
   ]
  },
  {
   "cell_type": "markdown",
   "metadata": {},
   "source": [
    "## 2. Run Initial Topic Modeling\n",
    "\n",
    "Now we'll run topic modeling on our sample data. We know there are 3 main topics, so we'll set `num_topics=3`."
   ]
  },
  {
   "cell_type": "code",
   "execution_count": null,
   "metadata": {},
   "source": [
    "# Initialize topic modeler\n",
    "modeler = MenoTopicModeler()\n",
    "\n",
    "# Preprocess the data\n",
    "modeler.preprocess(df, text_column=\"text\")\n",
    "\n",
    "# Discover topics\n",
    "topic_df = modeler.discover_topics(\n",
    "    method=\"embedding_cluster\",\n",
    "    num_topics=3,\n",
    "    random_state=42\n",
    ")\n",
    "\n",
    "# Print topic information\n",
    "topic_info = modeler.get_topic_info()\n",
    "print(\"\\nDiscovered Topics:\")\n",
    "for _, row in topic_info.iterrows():\n",
    "    print(f\"Topic {row['Topic']}: {row['Name']}\")\n",
    "\n",
    "# Show document assignments\n",
    "doc_info = modeler.get_document_info()\n",
    "result_df = pd.DataFrame({\n",
    "    \"text\": df[\"text\"],\n",
    "    \"true_category\": df[\"true_category\"],\n",
    "    \"assigned_topic\": doc_info[\"Topic\"]\n",
    "})\n",
    "\n",
    "# Display the results\n",
    "result_df.head(10)"
   ]
  },
  {
   "cell_type": "markdown",
   "metadata": {},
   "source": [
    "## 3. Evaluate Initial Topic Assignments\n",
    "\n",
    "Let's see how well our initial topic assignments match the true categories."
   ]
  },
  {
   "cell_type": "code",
   "execution_count": null,
   "metadata": {},
   "source": [
    "# Count documents by topic and true category\n",
    "topic_category_counts = pd.crosstab(\n",
    "    doc_info[\"Topic\"],\n",
    "    df[\"true_category\"],\n",
    "    margins=True,\n",
    "    margins_name=\"Total\"\n",
    ")\n",
    "\n",
    "# Display the counts\n",
    "print(\"Topic-Category Distribution:\")\n",
    "topic_category_counts"
   ]
  },
  {
   "cell_type": "code",
   "execution_count": null,
   "metadata": {},
   "source": [
    "# Calculate metrics: what percentage of each topic comes from each true category\n",
    "topic_composition = topic_category_counts.div(topic_category_counts[\"Total\"], axis=0) * 100\n",
    "topic_composition = topic_composition.drop(\"Total\", axis=1)\n",
    "\n",
    "# Plot topic composition\n",
    "plt.figure(figsize=(12, 6))\n",
    "topic_composition.drop(\"Total\", axis=0).plot(\n",
    "    kind=\"bar\",\n",
    "    title=\"Topic Composition (Before Feedback)\"\n",
    ")\n",
    "plt.ylabel(\"Percentage\")\n",
    "plt.xticks(rotation=0)\n",
    "plt.legend(title=\"True Category\")\n",
    "plt.tight_layout()\n",
    "plt.show()"
   ]
  },
  {
   "cell_type": "markdown",
   "metadata": {},
   "source": [
    "## 4. Set up the Feedback System\n",
    "\n",
    "Now we'll set up the feedback system to help refine our topic assignments."
   ]
  },
  {
   "cell_type": "code",
   "execution_count": null,
   "metadata": {},
   "source": [
    "# Create a feedback manager\n",
    "feedback_manager = TopicFeedbackManager(modeler)\n",
    "\n",
    "# Create topic descriptions to help with feedback\n",
    "topic_names = modeler.get_topic_info()[\"Name\"].tolist()\n",
    "topic_descriptions = [\n",
    "    \"Documents related to technology, computing, and data science\",\n",
    "    \"Documents related to healthcare, medicine, and patient care\",\n",
    "    \"Documents related to environment, climate, and sustainability\"\n",
    "]"
   ]
  },
  {
   "cell_type": "markdown",
   "metadata": {},
   "source": [
    "## 5. Begin the Feedback Process\n",
    "\n",
    "Now we'll start the feedback process. This will:\n",
    "1. Identify documents that are most uncertain or diverse\n",
    "2. Create an interactive interface to review and correct topic assignments\n",
    "3. Allow us to save our feedback for later use"
   ]
  },
  {
   "cell_type": "code",
   "execution_count": null,
   "metadata": {},
   "source": [
    "# Set up the feedback system\n",
    "feedback_system = feedback_manager.setup_feedback(\n",
    "    n_samples=10,  # Review 10 documents\n",
    "    uncertainty_ratio=0.7,  # 70% uncertain, 30% diverse documents\n",
    "    uncertainty_method=\"entropy\",  # Use entropy to measure uncertainty\n",
    "    topic_descriptions=topic_descriptions  # Add descriptions for clarity\n",
    ")"
   ]
  },
  {
   "cell_type": "code",
   "execution_count": null,
   "metadata": {},
   "source": [
    "# Start the review process\n",
    "feedback_manager.start_review()"
   ]
  },
  {
   "cell_type": "markdown",
   "metadata": {},
   "source": [
    "## 6. Review Feedback Summary\n",
    "\n",
    "After providing feedback, we can see a summary of the changes we made."
   ]
  },
  {
   "cell_type": "code",
   "execution_count": null,
   "metadata": {},
   "source": [
    "# Display the feedback summary\n",
    "feedback_system.display_summary()"
   ]
  },
  {
   "cell_type": "markdown",
   "metadata": {},
   "source": [
    "## 7. Apply Feedback and Update the Model\n",
    "\n",
    "Now we'll apply our feedback to update the model."
   ]
  },
  {
   "cell_type": "code",
   "execution_count": null,
   "metadata": {},
   "source": [
    "# Apply the feedback to update the model\n",
    "feedback_system.apply_updates()\n",
    "\n",
    "# Get the updated model\n",
    "updated_modeler = feedback_manager.get_updated_model()\n",
    "\n",
    "# Check the updated document assignments\n",
    "updated_doc_info = updated_modeler.get_document_info()\n",
    "updated_result_df = pd.DataFrame({\n",
    "    \"text\": df[\"text\"],\n",
    "    \"true_category\": df[\"true_category\"],\n",
    "    \"original_topic\": doc_info[\"Topic\"],\n",
    "    \"updated_topic\": updated_doc_info[\"Topic\"]\n",
    "})\n",
    "\n",
    "# Display documents where the topic changed\n",
    "changed_df = updated_result_df[updated_result_df[\"original_topic\"] != updated_result_df[\"updated_topic\"]]\n",
    "changed_df.head()"
   ]
  },
  {
   "cell_type": "markdown",
   "metadata": {},
   "source": [
    "## 8. Evaluate Updated Topic Assignments\n",
    "\n",
    "Let's see how our topic assignments improved after incorporating feedback."
   ]
  },
  {
   "cell_type": "code",
   "execution_count": null,
   "metadata": {},
   "source": [
    "# Count documents by topic and true category after feedback\n",
    "updated_topic_counts = pd.crosstab(\n",
    "    updated_doc_info[\"Topic\"],\n",
    "    df[\"true_category\"],\n",
    "    margins=True,\n",
    "    margins_name=\"Total\"\n",
    ")\n",
    "\n",
    "# Display the counts\n",
    "print(\"Topic-Category Distribution (After Feedback):\")\n",
    "updated_topic_counts"
   ]
  },
  {
   "cell_type": "code",
   "execution_count": null,
   "metadata": {},
   "source": [
    "# Calculate metrics: what percentage of each topic comes from each true category\n",
    "updated_composition = updated_topic_counts.div(updated_topic_counts[\"Total\"], axis=0) * 100\n",
    "updated_composition = updated_composition.drop(\"Total\", axis=1)\n",
    "\n",
    "# Plot topic composition\n",
    "plt.figure(figsize=(12, 6))\n",
    "updated_composition.drop(\"Total\", axis=0).plot(\n",
    "    kind=\"bar\",\n",
    "    title=\"Topic Composition (After Feedback)\"\n",
    ")\n",
    "plt.ylabel(\"Percentage\")\n",
    "plt.xticks(rotation=0)\n",
    "plt.legend(title=\"True Category\")\n",
    "plt.tight_layout()\n",
    "plt.show()"
   ]
  },
  {
   "cell_type": "markdown",
   "metadata": {},
   "source": [
    "## 9. Export Feedback for Collaboration\n",
    "\n",
    "We can export our feedback to a CSV file to share with colleagues or save for later."
   ]
  },
  {
   "cell_type": "code",
   "execution_count": null,
   "metadata": {},
   "source": [
    "# Export feedback to CSV\n",
    "feedback_system.export_to_csv(\"topic_feedback.csv\")"
   ]
  },
  {
   "cell_type": "markdown",
   "metadata": {},
   "source": [
    "## 10. Import Feedback (Future Use)\n",
    "\n",
    "In a future session, we could import the feedback from a CSV file."
   ]
  },
  {
   "cell_type": "code",
   "execution_count": null,
   "metadata": {},
   "source": [
    "# Example of importing feedback in a future session\n",
    "# new_feedback_system = new_feedback_manager.setup_feedback(...)\n",
    "# new_feedback_system.import_from_csv(\"topic_feedback.csv\")\n",
    "# new_feedback_system.apply_updates()"
   ]
  },
  {
   "cell_type": "markdown",
   "metadata": {},
   "source": [
    "## Conclusion\n",
    "\n",
    "In this notebook, we've demonstrated how to use Meno's feedback system to improve topic modeling results:\n",
    "\n",
    "1. We ran initial topic modeling on our data\n",
    "2. We set up the feedback system to identify uncertain documents\n",
    "3. We reviewed and corrected topic assignments interactively\n",
    "4. We applied our feedback to update the model\n",
    "5. We evaluated the improvement in topic assignments\n",
    "6. We exported our feedback for future use or collaboration\n",
    "\n",
    "This approach provides a simple way to incorporate domain expertise into topic modeling without requiring a web app or complex infrastructure."
   ]
  }
 ],
 "metadata": {
  "kernelspec": {
   "display_name": "Python 3",
   "language": "python",
   "name": "python3"
  },
  "language_info": {
   "codemirror_mode": {
    "name": "ipython",
    "version": 3
   },
   "file_extension": ".py",
   "mimetype": "text/x-python",
   "name": "python",
   "nbconvert_exporter": "python",
   "pygments_lexer": "ipython3",
   "version": "3.10.0"
  }
 },
 "nbformat": 4,
 "nbformat_minor": 2
}