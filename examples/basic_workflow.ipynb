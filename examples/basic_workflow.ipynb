{
  "cells": [
    {
      "cell_type": "markdown",
      "metadata": {},
      "source": [
        "# Meno Topic Modeling: Basic Workflow\n",
        "\n",
        "This notebook demonstrates a basic topic modeling workflow using Meno."
      ]
    },
    {
      "cell_type": "code",
      "execution_count": null,
      "metadata": {},
      "source": [
        "# Import required libraries\n",
        "import pandas as pd\n",
        "import numpy as np\n",
        "from meno.meno import MenoTopicModeler\n",
        "import plotly.express as px\n",
        "import matplotlib.pyplot as plt\n",
        "\n",
        "# Set up plotting\n",
        "%matplotlib inline"
      ],
      "outputs": []
    },
    {
      "cell_type": "markdown",
      "metadata": {},
      "source": [
        "## Load sample data\n",
        "\n",
        "For this example, we'll use a dataset of insurance claims. In a real application, you would load your own text data."
      ]
    },
    {
      "cell_type": "code",
      "execution_count": null,
      "metadata": {},
      "source": [
        "# Sample data - in a real application, load your own data here\n",
        "data = [\n",
        "    \"Customer's vehicle was damaged in a parking lot by a shopping cart. Front bumper has scratches.\",\n",
        "    \"Claimant's home flooded due to heavy rain. Water damage to first floor and basement.\",\n",
        "    \"Vehicle collided with another car at an intersection. Front-end damage and airbag deployment.\",\n",
        "    \"Tree fell on roof during storm causing damage to shingles and gutters.\",\n",
        "    \"Insured slipped on ice in parking lot and broke wrist requiring medical treatment.\",\n",
        "    \"Customer's laptop was stolen from car. Window was broken to gain entry.\",\n",
        "    \"Kitchen fire caused smoke damage throughout home. Fire started from unattended cooking.\",\n",
        "    \"Rear-end collision at stoplight. Minor bumper damage to insured vehicle.\",\n",
        "    \"Hail damaged roof and required full replacement of shingles.\",\n",
        "    \"Burst pipe in bathroom caused water damage to flooring and walls.\",\n",
        "    \"Dog bit visitor to home requiring stitches and antibiotics.\",\n",
        "    \"Vandalism to vehicle in parking garage. Scratches on multiple panels.\",\n",
        "    \"Cyclist hit by insured's vehicle at crosswalk. Minor injuries reported.\",\n",
        "    \"Lightning strike caused electrical surge damaging home appliances and electronics.\",\n",
        "    \"Fell on wet floor at grocery store resulting in back injury and ongoing physical therapy.\",\n",
        "]\n",
        "\n",
        "# Convert to DataFrame\n",
        "df = pd.DataFrame({\"claim_text\": data})\n",
        "df.head()"
      ],
      "outputs": []
    },
    {
      "cell_type": "markdown",
      "metadata": {},
      "source": [
        "## Initialize Topic Modeler\n",
        "\n",
        "We'll create a topic modeler instance using the default configuration."
      ]
    },
    {
      "cell_type": "code",
      "execution_count": null,
      "metadata": {},
      "source": [
        "# Create topic modeler with default configuration\n",
        "modeler = MenoTopicModeler()\n",
        "\n",
        "# Check embedding model being used\n",
        "print(f\"Using embedding model: {modeler.config.modeling.embeddings.model_name}\")"
      ],
      "outputs": []
    },
    {
      "cell_type": "markdown",
      "metadata": {},
      "source": [
        "## Preprocess Text\n",
        "\n",
        "Now we'll preprocess the text data before modeling."
      ]
    },
    {
      "cell_type": "code",
      "execution_count": null,
      "metadata": {},
      "source": [
        "# Preprocess documents\n",
        "processed_docs = modeler.preprocess(\n",
        "    df,\n",
        "    text_column=\"claim_text\"\n",
        ")\n",
        "\n",
        "# View original and processed text\n",
        "processed_docs[[\"text\", \"processed_text\"]].head(3)"
      ],
      "outputs": []
    },
    {
      "cell_type": "markdown",
      "metadata": {},
      "source": [
        "## Generate Embeddings\n",
        "\n",
        "We'll create document embeddings using the configured model."
      ]
    },
    {
      "cell_type": "code",
      "execution_count": null,
      "metadata": {},
      "source": [
        "# Generate embeddings\n",
        "embeddings = modeler.embed_documents()\n",
        "\n",
        "# Check the shape of the embeddings\n",
        "print(f\"Embeddings shape: {embeddings.shape}\")"
      ],
      "outputs": []
    },
    {
      "cell_type": "markdown",
      "metadata": {},
      "source": [
        "## Unsupervised Topic Discovery\n",
        "\n",
        "First, let's try unsupervised topic discovery using embedding clustering."
      ]
    },
    {
      "cell_type": "code",
      "execution_count": null,
      "metadata": {},
      "source": [
        "# Discover topics using embedding clustering\n",
        "topics_df = modeler.discover_topics(\n",
        "    method=\"embedding_cluster\",\n",
        "    num_topics=5  # Specify number of topics, or leave as None to use config default\n",
        ")\n",
        "\n",
        "# View the topic assignments\n",
        "topics_df[[\"text\", \"topic\"]].head(10)"
      ],
      "outputs": []
    },
    {
      "cell_type": "markdown",
      "metadata": {},
      "source": [
        "## Visualize Document Embeddings\n",
        "\n",
        "Let's visualize the document embeddings colored by topic."
      ]
    },
    {
      "cell_type": "code",
      "execution_count": null,
      "metadata": {},
      "source": [
        "# Create UMAP visualization of documents colored by topic\n",
        "fig = modeler.visualize_embeddings()\n",
        "fig.show()"
      ],
      "outputs": []
    },
    {
      "cell_type": "markdown",
      "metadata": {},
      "source": [
        "## Supervised Topic Matching\n",
        "\n",
        "Now let's try supervised topic matching with predefined topics."
      ]
    },
    {
      "cell_type": "code",
      "execution_count": null,
      "metadata": {},
      "source": [
        "# Define topics and descriptions\n",
        "predefined_topics = [\n",
        "    \"Vehicle Damage\",\n",
        "    \"Water Damage\",\n",
        "    \"Personal Injury\",\n",
        "    \"Property Damage\",\n",
        "    \"Theft/Vandalism\"\n",
        "]\n",
        "\n",
        "topic_descriptions = [\n",
        "    \"Damage to vehicles from collisions, parking incidents, or natural events\",\n",
        "    \"Damage from water including floods, leaks, and burst pipes\",\n",
        "    \"Injuries to people including slips, falls, and accidents\",\n",
        "    \"Damage to property from fire, storms, or other causes\",\n",
        "    \"Theft of property or intentional damage\"\n",
        "]\n",
        "\n",
        "# Match documents to predefined topics\n",
        "matched_df = modeler.match_topics(\n",
        "    topics=predefined_topics,\n",
        "    descriptions=topic_descriptions,\n",
        "    threshold=0.5  # Similarity threshold\n",
        ")\n",
        "\n",
        "# View the topic assignments\n",
        "matched_df[[\"text\", \"topic\", \"topic_probability\"]].head(10)"
      ],
      "outputs": []
    },
    {
      "cell_type": "markdown",
      "metadata": {},
      "source": [
        "## Visualize Topic Distribution\n",
        "\n",
        "Let's see the distribution of topics in our dataset."
      ]
    },
    {
      "cell_type": "code",
      "execution_count": null,
      "metadata": {},
      "source": [
        "# Create topic distribution visualization\n",
        "fig = modeler.visualize_topic_distribution()\n",
        "fig.show()"
      ],
      "outputs": []
    },
    {
      "cell_type": "markdown",
      "metadata": {},
      "source": [
        "## Generate HTML Report\n",
        "\n",
        "Finally, let's generate an HTML report with our findings."
      ]
    },
    {
      "cell_type": "code",
      "execution_count": null,
      "metadata": {},
      "source": [
        "# Generate HTML report\n",
        "report_path = modeler.generate_report(\n",
        "    output_path=\"insurance_claims_topics.html\",\n",
        "    include_interactive=True\n",
        ")\n",
        "\n",
        "print(f\"Report generated at {report_path}\")"
      ],
      "outputs": []
    },
    {
      "cell_type": "markdown",
      "metadata": {},
      "source": [
        "## Export Results\n",
        "\n",
        "Let's export the results to CSV and JSON formats."
      ]
    },
    {
      "cell_type": "code",
      "execution_count": null,
      "metadata": {},
      "source": [
        "# Export results\n",
        "export_paths = modeler.export_results(\n",
        "    output_path=\"export_results\",\n",
        "    formats=[\"csv\", \"json\"],\n",
        "    include_embeddings=False\n",
        ")\n",
        "\n",
        "print(\"Results exported to:\")\n",
        "for fmt, path in export_paths.items():\n",
        "    print(f\"  - {fmt}: {path}\")"
      ],
      "outputs": []
    }
  ],
  "metadata": {
    "kernelspec": {
      "display_name": "Python 3",
      "language": "python",
      "name": "python3"
    },
    "language_info": {
      "codemirror_mode": {
        "name": "ipython",
        "version": 3
      },
      "file_extension": ".py",
      "mimetype": "text/x-python",
      "name": "python",
      "nbconvert_exporter": "python",
      "pygments_lexer": "ipython3",
      "version": "3.10.0"
    }
  },
  "nbformat": 4,
  "nbformat_minor": 2
}